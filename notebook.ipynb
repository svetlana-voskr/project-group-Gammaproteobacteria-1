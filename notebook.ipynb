{
 "cells": [
  {
   "cell_type": "code",
   "execution_count": 1,
   "metadata": {},
   "outputs": [],
   "source": [
    "import os\n",
    "import subprocess\n",
    "import pandas as pd\n",
    "import numpy as np\n",
    "import seaborn as sns\n",
    "import matplotlib.pyplot as plt\n",
    "from Bio import SeqIO\n",
    "import pprint"
   ]
  },
  {
   "cell_type": "markdown",
   "metadata": {},
   "source": [
    "### Делаем словарь со списком геномов и словарь белков"
   ]
  },
  {
   "cell_type": "code",
   "execution_count": 2,
   "metadata": {},
   "outputs": [],
   "source": [
    "genomes_dict = dict()\n",
    "for genus in os.listdir('data'):\n",
    "    files = os.listdir('data/'+genus)\n",
    "    files = list(filter(lambda x: x.endswith('.faa'), files))\n",
    "    species = list(map(lambda x: x.split(\".\")[0], files))\n",
    "    genomes_dict[genus] = species"
   ]
  },
  {
   "cell_type": "code",
   "execution_count": 26,
   "metadata": {},
   "outputs": [],
   "source": [
    "aa_seqs = dict()\n",
    "for genus in genomes_dict.keys():\n",
    "    for genome in genomes_dict[genus]:\n",
    "        aa_seqs.update(SeqIO.to_dict(SeqIO.parse(f\"data/{genus}/{genome}.faa\", \"fasta\")))"
   ]
  },
  {
   "cell_type": "code",
   "execution_count": null,
   "metadata": {},
   "outputs": [],
   "source": [
    "# Список всех геномов\n",
    "genomes_list = "
   ]
  },
  {
   "cell_type": "markdown",
   "metadata": {},
   "source": [
    "## Определяем кластеры"
   ]
  },
  {
   "cell_type": "code",
   "execution_count": 14,
   "metadata": {},
   "outputs": [
    {
     "data": {
      "text/plain": [
       "'data/Halomonas/* data/Enterobacter/* data/Mannheimia/* data/Aeromonas/* data/Erwinia/* data/Lysobacter/* data/Klebsiella/* data/Dickeya/* data/Kosakonia/* data/Pseudomonas/*'"
      ]
     },
     "execution_count": 14,
     "metadata": {},
     "output_type": "execute_result"
    }
   ],
   "source": [
    "folders = [\"data/\" + folder + \"/*\" for folder in os.listdir(\"data\")]\n",
    "\" \".join(folders)"
   ]
  },
  {
   "cell_type": "code",
   "execution_count": 17,
   "metadata": {},
   "outputs": [
    {
     "data": {
      "text/plain": [
       "CompletedProcess(args='proteinortho5 -project=gammaproteo data/Halomonas/* data/Enterobacter/* data/Mannheimia/* data/Aeromonas/* data/Erwinia/* data/Lysobacter/* data/Klebsiella/* data/Dickeya/* data/Kosakonia/* data/Pseudomonas/*', returncode=0)"
      ]
     },
     "execution_count": 17,
     "metadata": {},
     "output_type": "execute_result"
    }
   ],
   "source": [
    "subprocess.run(\"proteinortho5 -project=gammaproteo \" + \" \".join(folders), shell=True, check=True)"
   ]
  },
  {
   "cell_type": "code",
   "execution_count": 18,
   "metadata": {},
   "outputs": [],
   "source": [
    "! mv gammaproteo* proteinortho/"
   ]
  },
  {
   "cell_type": "markdown",
   "metadata": {},
   "source": [
    "## Работаем со статистикой"
   ]
  },
  {
   "cell_type": "code",
   "execution_count": null,
   "metadata": {},
   "outputs": [],
   "source": [
    "clusters = pd.read_csv(\"proteinortho/gammaproteo.proteinortho\", sep='\\t')\n",
    "clusters = clusters.loc[clusters['# Species'] >= 25]\n",
    "clusters.replace(to_replace='*', value=np.NaN, inplace=True)\n",
    "clusters"
   ]
  },
  {
   "cell_type": "markdown",
   "metadata": {},
   "source": [
    "#### Рисуем гистограмму распределения родов, видов и генов в кластерах"
   ]
  },
  {
   "cell_type": "code",
   "execution_count": 126,
   "metadata": {},
   "outputs": [],
   "source": [
    "! mkdir -p pictures\n",
    "sns.set_theme()\n",
    "sns.histplot(data=clusters, x=\"# Species\", discrete=True)\n",
    "plt.title(\"Distribution of species in clusters\")\n",
    "plt.tight_layout()\n",
    "plt.savefig(f\"pictures/species_distribution.png\", dpi=400)\n",
    "plt.close()\n",
    "\n",
    "sns.histplot(data=clusters, x=\"Genes\", discrete=True)\n",
    "plt.title(\"Distribution of genes in clusters\")\n",
    "plt.tight_layout()\n",
    "plt.savefig(f\"pictures/genes_distribution.png\", dpi=400)\n",
    "plt.close()\n",
    "\n",
    "sns.histplot(data=cluster_stat, x=\"Genuses\", discrete=True)\n",
    "plt.title(\"Distribution of genuses in clusters\")\n",
    "plt.tight_layout()\n",
    "plt.savefig(f\"pictures/genuses_distribution.png\", dpi=400)\n",
    "plt.close()"
   ]
  },
  {
   "cell_type": "code",
   "execution_count": 4,
   "metadata": {},
   "outputs": [],
   "source": [
    "'''\n",
    "aa_seqs = dict()\n",
    "for genus in genomes_dict.keys():\n",
    "    temp_dict = dict()\n",
    "    for genome in genomes_dict[genus]:\n",
    "        temp_dict[genome] = SeqIO.to_dict(SeqIO.parse(f\"data/{genus}/{genome}.faa\", \"fasta\"))\n",
    "    aa_seqs[genus] = temp_dict\n",
    "del temp_dict\n",
    "'''"
   ]
  },
  {
   "cell_type": "markdown",
   "metadata": {},
   "source": [
    "#### Готовим таблицу"
   ]
  },
  {
   "cell_type": "code",
   "execution_count": 50,
   "metadata": {},
   "outputs": [
    {
     "data": {
      "text/plain": [
       "'Hypothetical protein thokle011_00140'"
      ]
     },
     "execution_count": 50,
     "metadata": {},
     "output_type": "execute_result"
    }
   ],
   "source": [
    "def return_function_by_id(ID):\n",
    "    Seq = aa_seqs[ID]\n",
    "    descr = Seq.description\n",
    "    if \":\" in descr:\n",
    "        return descr[descr.find(\":\")+1 : descr.find(\"[\")].strip().capitalize()\n",
    "    else:\n",
    "        return descr[descr.find(\" \")+1 : descr.find(\"[\")].strip().capitalize()\n",
    "\n",
    "return_function_by_id('BBW73724.1')\n"
   ]
  },
  {
   "cell_type": "code",
   "execution_count": 89,
   "metadata": {},
   "outputs": [
    {
     "data": {
      "text/plain": [
       "'50s ribosomal protein l29'"
      ]
     },
     "execution_count": 89,
     "metadata": {},
     "output_type": "execute_result"
    }
   ],
   "source": [
    "def return_function_of_cluster(row):\n",
    "    row = row[3:53]\n",
    "    row = row.dropna()\n",
    "    # To deal with multiple genes in one genome\n",
    "    row = \",\".join(row).split(',')\n",
    "    list_of_functions = list(map(return_function_by_id, row))\n",
    "    values, counts = np.unique(list_of_functions, return_counts=True)\n",
    "    return values[np.argmax(counts)]\n",
    "\n",
    "return_function_of_cluster(clusters.iloc[8])"
   ]
  },
  {
   "cell_type": "code",
   "execution_count": 117,
   "metadata": {},
   "outputs": [
    {
     "data": {
      "text/plain": [
       "8"
      ]
     },
     "execution_count": 117,
     "metadata": {},
     "output_type": "execute_result"
    }
   ],
   "source": [
    "def number_of_genuses(row):\n",
    "    row = row[3:53]\n",
    "    row = row.dropna()\n",
    "    names = list(map(lambda x: x.split('.')[0], row.index))\n",
    "    counter = 0\n",
    "    for key in genomes_dict:\n",
    "        for name in names:\n",
    "            if name in genomes_dict[key]:\n",
    "                counter += 1\n",
    "                break\n",
    "    return counter\n",
    "\n",
    "number_of_genuses(clusters.iloc[10])"
   ]
  },
  {
   "cell_type": "code",
   "execution_count": 119,
   "metadata": {},
   "outputs": [
    {
     "data": {
      "text/html": [
       "<div>\n",
       "<style scoped>\n",
       "    .dataframe tbody tr th:only-of-type {\n",
       "        vertical-align: middle;\n",
       "    }\n",
       "\n",
       "    .dataframe tbody tr th {\n",
       "        vertical-align: top;\n",
       "    }\n",
       "\n",
       "    .dataframe thead th {\n",
       "        text-align: right;\n",
       "    }\n",
       "</style>\n",
       "<table border=\"1\" class=\"dataframe\">\n",
       "  <thead>\n",
       "    <tr style=\"text-align: right;\">\n",
       "      <th></th>\n",
       "      <th># Species</th>\n",
       "      <th>Genes</th>\n",
       "      <th>Genuses</th>\n",
       "      <th>Function</th>\n",
       "    </tr>\n",
       "  </thead>\n",
       "  <tbody>\n",
       "    <tr>\n",
       "      <th>1</th>\n",
       "      <td>27</td>\n",
       "      <td>27</td>\n",
       "      <td>10</td>\n",
       "      <td>30s ribosomal protein s19</td>\n",
       "    </tr>\n",
       "    <tr>\n",
       "      <th>2</th>\n",
       "      <td>29</td>\n",
       "      <td>29</td>\n",
       "      <td>10</td>\n",
       "      <td>50s ribosomal protein l35</td>\n",
       "    </tr>\n",
       "    <tr>\n",
       "      <th>3</th>\n",
       "      <td>34</td>\n",
       "      <td>34</td>\n",
       "      <td>10</td>\n",
       "      <td>50s ribosomal protein l20</td>\n",
       "    </tr>\n",
       "    <tr>\n",
       "      <th>4</th>\n",
       "      <td>28</td>\n",
       "      <td>28</td>\n",
       "      <td>10</td>\n",
       "      <td>F0f1 atp synthase subunit c</td>\n",
       "    </tr>\n",
       "    <tr>\n",
       "      <th>5</th>\n",
       "      <td>35</td>\n",
       "      <td>35</td>\n",
       "      <td>10</td>\n",
       "      <td>30s ribosomal protein s13</td>\n",
       "    </tr>\n",
       "    <tr>\n",
       "      <th>...</th>\n",
       "      <td>...</td>\n",
       "      <td>...</td>\n",
       "      <td>...</td>\n",
       "      <td>...</td>\n",
       "    </tr>\n",
       "    <tr>\n",
       "      <th>9869</th>\n",
       "      <td>25</td>\n",
       "      <td>25</td>\n",
       "      <td>6</td>\n",
       "      <td>Multidrug efflux mfs transporter mdth</td>\n",
       "    </tr>\n",
       "    <tr>\n",
       "      <th>10205</th>\n",
       "      <td>25</td>\n",
       "      <td>33</td>\n",
       "      <td>8</td>\n",
       "      <td>Replication endonuclease</td>\n",
       "    </tr>\n",
       "    <tr>\n",
       "      <th>10210</th>\n",
       "      <td>29</td>\n",
       "      <td>30</td>\n",
       "      <td>10</td>\n",
       "      <td>Superoxide dismutase family protein</td>\n",
       "    </tr>\n",
       "    <tr>\n",
       "      <th>10240</th>\n",
       "      <td>25</td>\n",
       "      <td>26</td>\n",
       "      <td>7</td>\n",
       "      <td>M4 family metallopeptidase</td>\n",
       "    </tr>\n",
       "    <tr>\n",
       "      <th>11891</th>\n",
       "      <td>27</td>\n",
       "      <td>29</td>\n",
       "      <td>6</td>\n",
       "      <td>Peroxiredoxin</td>\n",
       "    </tr>\n",
       "  </tbody>\n",
       "</table>\n",
       "<p>2356 rows × 4 columns</p>\n",
       "</div>"
      ],
      "text/plain": [
       "       # Species  Genes  Genuses                               Function\n",
       "1             27     27       10              30s ribosomal protein s19\n",
       "2             29     29       10              50s ribosomal protein l35\n",
       "3             34     34       10              50s ribosomal protein l20\n",
       "4             28     28       10            F0f1 atp synthase subunit c\n",
       "5             35     35       10              30s ribosomal protein s13\n",
       "...          ...    ...      ...                                    ...\n",
       "9869          25     25        6  Multidrug efflux mfs transporter mdth\n",
       "10205         25     33        8               Replication endonuclease\n",
       "10210         29     30       10    Superoxide dismutase family protein\n",
       "10240         25     26        7             M4 family metallopeptidase\n",
       "11891         27     29        6                          Peroxiredoxin\n",
       "\n",
       "[2356 rows x 4 columns]"
      ]
     },
     "execution_count": 119,
     "metadata": {},
     "output_type": "execute_result"
    }
   ],
   "source": [
    "cluster_stat = pd.DataFrame(clusters[['# Species', 'Genes']])\n",
    "cluster_stat['Genuses'] = clusters.apply(number_of_genuses, axis=1)\n",
    "cluster_stat['Function'] = clusters.apply(return_function_of_cluster, axis=1)\n",
    "cluster_stat"
   ]
  },
  {
   "cell_type": "code",
   "execution_count": null,
   "metadata": {},
   "outputs": [],
   "source": []
  }
 ],
 "metadata": {
  "kernelspec": {
   "display_name": "Python 3.8.10 64-bit",
   "language": "python",
   "name": "python3"
  },
  "language_info": {
   "codemirror_mode": {
    "name": "ipython",
    "version": 3
   },
   "file_extension": ".py",
   "mimetype": "text/x-python",
   "name": "python",
   "nbconvert_exporter": "python",
   "pygments_lexer": "ipython3",
   "version": "3.8.10"
  },
  "orig_nbformat": 4,
  "vscode": {
   "interpreter": {
    "hash": "31f2aee4e71d21fbe5cf8b01ff0e069b9275f58929596ceb00d14d90e3e16cd6"
   }
  }
 },
 "nbformat": 4,
 "nbformat_minor": 2
}
